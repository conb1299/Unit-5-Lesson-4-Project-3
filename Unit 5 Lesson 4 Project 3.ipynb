{
 "cells": [
  {
   "cell_type": "markdown",
   "metadata": {},
   "source": [
    "1. Popularity of Various Uber Drivers - The survey star rating of 1-5 is a good way to judge by people who have experienced each driver. May run into problem of only rating when someone had an overly good or overly bad experience.\n",
    "\n",
    "2. Can ask grocery store attendees to rank their favorite ice cream 1,2,3 between strawberry, vanilla, and chocolate. This will take no other ice cream into consideration and only surveys people who shop at their store. If participant doesn't eat ice cream their can be a seperate box for that.\n",
    "\n",
    "3. A survey would be difficult in this situation since many people might not feel comfortable telling their sexual orientation to a company. Also, in the case people do take the survey they can easily lie about their real orientation.\n",
    "\n",
    "4. A survey with open ended answers in this situation would be good, with an open comments section to highlight specific parts of the rental car experience that people liked or disliked. \n",
    "\n",
    "5. Asking customers to pick how they heard of the company before they make a purchase is a good way to see how the advertisement has affected purchases.\n",
    "\n",
    "6. This information would be best looked at without input from the patient. Hospital can look at which nurse takes care of which patients and how long each patient takes to recover without any input from the patient."
   ]
  }
 ],
 "metadata": {
  "kernelspec": {
   "display_name": "Python 3",
   "language": "python",
   "name": "python3"
  },
  "language_info": {
   "codemirror_mode": {
    "name": "ipython",
    "version": 3
   },
   "file_extension": ".py",
   "mimetype": "text/x-python",
   "name": "python",
   "nbconvert_exporter": "python",
   "pygments_lexer": "ipython3",
   "version": "3.6.1"
  }
 },
 "nbformat": 4,
 "nbformat_minor": 2
}
